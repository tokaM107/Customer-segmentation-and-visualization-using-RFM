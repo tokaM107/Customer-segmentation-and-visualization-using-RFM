{
 "cells": [
  {
   "cell_type": "markdown",
   "metadata": {},
   "source": [
    "import nesseary libraries "
   ]
  },
  {
   "cell_type": "code",
   "execution_count": 1,
   "metadata": {},
   "outputs": [],
   "source": [
    "import pandas as pd\n",
    "import numpy as np "
   ]
  },
  {
   "cell_type": "markdown",
   "metadata": {},
   "source": [
    "read csv file"
   ]
  },
  {
   "cell_type": "code",
   "execution_count": 2,
   "metadata": {},
   "outputs": [],
   "source": [
    "df=pd.read_csv(\"file.csv\")"
   ]
  },
  {
   "cell_type": "code",
   "execution_count": 17,
   "metadata": {},
   "outputs": [
    {
     "data": {
      "text/html": [
       "<div>\n",
       "<style scoped>\n",
       "    .dataframe tbody tr th:only-of-type {\n",
       "        vertical-align: middle;\n",
       "    }\n",
       "\n",
       "    .dataframe tbody tr th {\n",
       "        vertical-align: top;\n",
       "    }\n",
       "\n",
       "    .dataframe thead th {\n",
       "        text-align: right;\n",
       "    }\n",
       "</style>\n",
       "<table border=\"1\" class=\"dataframe\">\n",
       "  <thead>\n",
       "    <tr style=\"text-align: right;\">\n",
       "      <th></th>\n",
       "      <th>CustomerID</th>\n",
       "      <th>Transaction_ID</th>\n",
       "      <th>Transaction_Date</th>\n",
       "      <th>Quantity</th>\n",
       "      <th>Avg_Price</th>\n",
       "    </tr>\n",
       "  </thead>\n",
       "  <tbody>\n",
       "    <tr>\n",
       "      <th>0</th>\n",
       "      <td>17850.0</td>\n",
       "      <td>16679.0</td>\n",
       "      <td>2019-01-01</td>\n",
       "      <td>1.0</td>\n",
       "      <td>153.71</td>\n",
       "    </tr>\n",
       "    <tr>\n",
       "      <th>1</th>\n",
       "      <td>17850.0</td>\n",
       "      <td>16680.0</td>\n",
       "      <td>2019-01-01</td>\n",
       "      <td>1.0</td>\n",
       "      <td>153.71</td>\n",
       "    </tr>\n",
       "    <tr>\n",
       "      <th>2</th>\n",
       "      <td>17850.0</td>\n",
       "      <td>16696.0</td>\n",
       "      <td>2019-01-01</td>\n",
       "      <td>2.0</td>\n",
       "      <td>122.77</td>\n",
       "    </tr>\n",
       "    <tr>\n",
       "      <th>3</th>\n",
       "      <td>17850.0</td>\n",
       "      <td>16699.0</td>\n",
       "      <td>2019-01-01</td>\n",
       "      <td>1.0</td>\n",
       "      <td>81.50</td>\n",
       "    </tr>\n",
       "    <tr>\n",
       "      <th>4</th>\n",
       "      <td>17850.0</td>\n",
       "      <td>16700.0</td>\n",
       "      <td>2019-01-01</td>\n",
       "      <td>1.0</td>\n",
       "      <td>153.71</td>\n",
       "    </tr>\n",
       "  </tbody>\n",
       "</table>\n",
       "</div>"
      ],
      "text/plain": [
       "   CustomerID  Transaction_ID Transaction_Date  Quantity  Avg_Price\n",
       "0     17850.0         16679.0       2019-01-01       1.0     153.71\n",
       "1     17850.0         16680.0       2019-01-01       1.0     153.71\n",
       "2     17850.0         16696.0       2019-01-01       2.0     122.77\n",
       "3     17850.0         16699.0       2019-01-01       1.0      81.50\n",
       "4     17850.0         16700.0       2019-01-01       1.0     153.71"
      ]
     },
     "execution_count": 17,
     "metadata": {},
     "output_type": "execute_result"
    }
   ],
   "source": [
    "df.head()"
   ]
  },
  {
   "cell_type": "code",
   "execution_count": 18,
   "metadata": {},
   "outputs": [
    {
     "data": {
      "text/html": [
       "<div>\n",
       "<style scoped>\n",
       "    .dataframe tbody tr th:only-of-type {\n",
       "        vertical-align: middle;\n",
       "    }\n",
       "\n",
       "    .dataframe tbody tr th {\n",
       "        vertical-align: top;\n",
       "    }\n",
       "\n",
       "    .dataframe thead th {\n",
       "        text-align: right;\n",
       "    }\n",
       "</style>\n",
       "<table border=\"1\" class=\"dataframe\">\n",
       "  <thead>\n",
       "    <tr style=\"text-align: right;\">\n",
       "      <th></th>\n",
       "      <th>CustomerID</th>\n",
       "      <th>Transaction_ID</th>\n",
       "      <th>Quantity</th>\n",
       "      <th>Avg_Price</th>\n",
       "    </tr>\n",
       "  </thead>\n",
       "  <tbody>\n",
       "    <tr>\n",
       "      <th>count</th>\n",
       "      <td>52924.00000</td>\n",
       "      <td>52924.000000</td>\n",
       "      <td>52924.000000</td>\n",
       "      <td>52924.000000</td>\n",
       "    </tr>\n",
       "    <tr>\n",
       "      <th>mean</th>\n",
       "      <td>15346.70981</td>\n",
       "      <td>32409.825675</td>\n",
       "      <td>4.497638</td>\n",
       "      <td>52.237646</td>\n",
       "    </tr>\n",
       "    <tr>\n",
       "      <th>std</th>\n",
       "      <td>1766.55602</td>\n",
       "      <td>8648.668977</td>\n",
       "      <td>20.104711</td>\n",
       "      <td>64.006882</td>\n",
       "    </tr>\n",
       "    <tr>\n",
       "      <th>min</th>\n",
       "      <td>12346.00000</td>\n",
       "      <td>16679.000000</td>\n",
       "      <td>1.000000</td>\n",
       "      <td>0.390000</td>\n",
       "    </tr>\n",
       "    <tr>\n",
       "      <th>25%</th>\n",
       "      <td>13869.00000</td>\n",
       "      <td>25384.000000</td>\n",
       "      <td>1.000000</td>\n",
       "      <td>5.700000</td>\n",
       "    </tr>\n",
       "    <tr>\n",
       "      <th>50%</th>\n",
       "      <td>15311.00000</td>\n",
       "      <td>32625.500000</td>\n",
       "      <td>1.000000</td>\n",
       "      <td>16.990000</td>\n",
       "    </tr>\n",
       "    <tr>\n",
       "      <th>75%</th>\n",
       "      <td>16996.25000</td>\n",
       "      <td>39126.250000</td>\n",
       "      <td>2.000000</td>\n",
       "      <td>102.130000</td>\n",
       "    </tr>\n",
       "    <tr>\n",
       "      <th>max</th>\n",
       "      <td>18283.00000</td>\n",
       "      <td>48497.000000</td>\n",
       "      <td>900.000000</td>\n",
       "      <td>355.740000</td>\n",
       "    </tr>\n",
       "  </tbody>\n",
       "</table>\n",
       "</div>"
      ],
      "text/plain": [
       "        CustomerID  Transaction_ID      Quantity     Avg_Price\n",
       "count  52924.00000    52924.000000  52924.000000  52924.000000\n",
       "mean   15346.70981    32409.825675      4.497638     52.237646\n",
       "std     1766.55602     8648.668977     20.104711     64.006882\n",
       "min    12346.00000    16679.000000      1.000000      0.390000\n",
       "25%    13869.00000    25384.000000      1.000000      5.700000\n",
       "50%    15311.00000    32625.500000      1.000000     16.990000\n",
       "75%    16996.25000    39126.250000      2.000000    102.130000\n",
       "max    18283.00000    48497.000000    900.000000    355.740000"
      ]
     },
     "execution_count": 18,
     "metadata": {},
     "output_type": "execute_result"
    }
   ],
   "source": [
    "df.describe()"
   ]
  },
  {
   "cell_type": "code",
   "execution_count": 5,
   "metadata": {},
   "outputs": [
    {
     "name": "stdout",
     "output_type": "stream",
     "text": [
      "<class 'pandas.core.frame.DataFrame'>\n",
      "RangeIndex: 52955 entries, 0 to 52954\n",
      "Data columns (total 21 columns):\n",
      " #   Column               Non-Null Count  Dtype  \n",
      "---  ------               --------------  -----  \n",
      " 0   Unnamed: 0           52955 non-null  int64  \n",
      " 1   CustomerID           52924 non-null  float64\n",
      " 2   Gender               52924 non-null  object \n",
      " 3   Location             52924 non-null  object \n",
      " 4   Tenure_Months        52924 non-null  float64\n",
      " 5   Transaction_ID       52924 non-null  float64\n",
      " 6   Transaction_Date     52924 non-null  object \n",
      " 7   Product_SKU          52924 non-null  object \n",
      " 8   Product_Description  52924 non-null  object \n",
      " 9   Product_Category     52955 non-null  object \n",
      " 10  Quantity             52924 non-null  float64\n",
      " 11  Avg_Price            52924 non-null  float64\n",
      " 12  Delivery_Charges     52924 non-null  float64\n",
      " 13  Coupon_Status        52924 non-null  object \n",
      " 14  GST                  52924 non-null  float64\n",
      " 15  Date                 52924 non-null  object \n",
      " 16  Offline_Spend        52924 non-null  float64\n",
      " 17  Online_Spend         52924 non-null  float64\n",
      " 18  Month                52955 non-null  int64  \n",
      " 19  Coupon_Code          52555 non-null  object \n",
      " 20  Discount_pct         52555 non-null  float64\n",
      "dtypes: float64(10), int64(2), object(9)\n",
      "memory usage: 8.5+ MB\n",
      "None\n"
     ]
    }
   ],
   "source": [
    "print(df.info())"
   ]
  },
  {
   "cell_type": "code",
   "execution_count": 6,
   "metadata": {},
   "outputs": [
    {
     "name": "stdout",
     "output_type": "stream",
     "text": [
      "Unnamed: 0             52955\n",
      "CustomerID              1468\n",
      "Gender                     2\n",
      "Location                   5\n",
      "Tenure_Months             49\n",
      "Transaction_ID         25061\n",
      "Transaction_Date         365\n",
      "Product_SKU             1145\n",
      "Product_Description      404\n",
      "Product_Category          21\n",
      "Quantity                 151\n",
      "Avg_Price                546\n",
      "Delivery_Charges         267\n",
      "Coupon_Status              3\n",
      "GST                        4\n",
      "Date                     365\n",
      "Offline_Spend             11\n",
      "Online_Spend             365\n",
      "Month                     12\n",
      "Coupon_Code               48\n",
      "Discount_pct               3\n",
      "dtype: int64\n"
     ]
    }
   ],
   "source": [
    "print(df.nunique())"
   ]
  },
  {
   "cell_type": "markdown",
   "metadata": {},
   "source": [
    "data cleaning "
   ]
  },
  {
   "cell_type": "code",
   "execution_count": 7,
   "metadata": {},
   "outputs": [],
   "source": [
    "df = df[[\"CustomerID\",\"Transaction_ID\",\"Transaction_Date\", \"Quantity\", \"Avg_Price\"]]\n",
    "data= df.dropna()\n",
    "data= data.drop_duplicates()\n"
   ]
  },
  {
   "cell_type": "code",
   "execution_count": 8,
   "metadata": {},
   "outputs": [
    {
     "name": "stdout",
     "output_type": "stream",
     "text": [
      "<class 'pandas.core.frame.DataFrame'>\n",
      "Index: 47603 entries, 0 to 52923\n",
      "Data columns (total 5 columns):\n",
      " #   Column            Non-Null Count  Dtype  \n",
      "---  ------            --------------  -----  \n",
      " 0   CustomerID        47603 non-null  float64\n",
      " 1   Transaction_ID    47603 non-null  float64\n",
      " 2   Transaction_Date  47603 non-null  object \n",
      " 3   Quantity          47603 non-null  float64\n",
      " 4   Avg_Price         47603 non-null  float64\n",
      "dtypes: float64(4), object(1)\n",
      "memory usage: 2.2+ MB\n",
      "None\n"
     ]
    }
   ],
   "source": [
    "print(data.info())"
   ]
  },
  {
   "cell_type": "markdown",
   "metadata": {},
   "source": [
    "add new column to caclculate money that customer spend "
   ]
  },
  {
   "cell_type": "code",
   "execution_count": 9,
   "metadata": {},
   "outputs": [],
   "source": [
    "data['TotalPrice'] = data['Quantity'] * data['Avg_Price']\n"
   ]
  },
  {
   "cell_type": "markdown",
   "metadata": {},
   "source": [
    "set max date to calculate recency (max date in data set is 31-12-2019)"
   ]
  },
  {
   "cell_type": "code",
   "execution_count": 10,
   "metadata": {},
   "outputs": [],
   "source": [
    "reference_date = pd.to_datetime('2020-01-01')\n",
    "data['Transaction_Date'] = pd.to_datetime(data['Transaction_Date'])"
   ]
  },
  {
   "cell_type": "markdown",
   "metadata": {},
   "source": [
    "calculating recency, frequency and montery "
   ]
  },
  {
   "cell_type": "code",
   "execution_count": 11,
   "metadata": {},
   "outputs": [],
   "source": [
    "rfm = data.groupby('CustomerID').agg({\n",
    "    'Transaction_Date': lambda date: (reference_date - date.max()).days,\n",
    "    'Transaction_ID': lambda num: len(num),\n",
    "    'TotalPrice': lambda price: price.sum()\n",
    "})"
   ]
  },
  {
   "cell_type": "markdown",
   "metadata": {},
   "source": [
    "rename columns "
   ]
  },
  {
   "cell_type": "code",
   "execution_count": 12,
   "metadata": {},
   "outputs": [],
   "source": [
    "rfm.columns =['recency','frequency', 'monetary']\n",
    "rfm['recency'] = rfm['recency'].astype(int)"
   ]
  },
  {
   "cell_type": "markdown",
   "metadata": {},
   "source": [
    "divide custumers into 4 groups "
   ]
  },
  {
   "cell_type": "code",
   "execution_count": 13,
   "metadata": {},
   "outputs": [],
   "source": [
    "rfm['r_quartile'] = pd.qcut(rfm['recency'], 4, ['1','2','3','4'])\n",
    "rfm['f_quartile'] = pd.qcut(rfm['frequency'], 4, ['4','3','2','1']) \n",
    "rfm['m_quartile'] = pd.qcut(rfm['monetary'], 4, ['4','3','2','1']) "
   ]
  },
  {
   "cell_type": "code",
   "execution_count": 19,
   "metadata": {},
   "outputs": [
    {
     "data": {
      "text/html": [
       "<div>\n",
       "<style scoped>\n",
       "    .dataframe tbody tr th:only-of-type {\n",
       "        vertical-align: middle;\n",
       "    }\n",
       "\n",
       "    .dataframe tbody tr th {\n",
       "        vertical-align: top;\n",
       "    }\n",
       "\n",
       "    .dataframe thead th {\n",
       "        text-align: right;\n",
       "    }\n",
       "</style>\n",
       "<table border=\"1\" class=\"dataframe\">\n",
       "  <thead>\n",
       "    <tr style=\"text-align: right;\">\n",
       "      <th></th>\n",
       "      <th>recency</th>\n",
       "      <th>frequency</th>\n",
       "      <th>monetary</th>\n",
       "      <th>r_quartile</th>\n",
       "      <th>f_quartile</th>\n",
       "      <th>m_quartile</th>\n",
       "      <th>RFM_Score</th>\n",
       "    </tr>\n",
       "    <tr>\n",
       "      <th>CustomerID</th>\n",
       "      <th></th>\n",
       "      <th></th>\n",
       "      <th></th>\n",
       "      <th></th>\n",
       "      <th></th>\n",
       "      <th></th>\n",
       "      <th></th>\n",
       "    </tr>\n",
       "  </thead>\n",
       "  <tbody>\n",
       "    <tr>\n",
       "      <th>12346.0</th>\n",
       "      <td>108</td>\n",
       "      <td>2</td>\n",
       "      <td>30.99</td>\n",
       "      <td>2</td>\n",
       "      <td>4</td>\n",
       "      <td>4</td>\n",
       "      <td>244</td>\n",
       "    </tr>\n",
       "    <tr>\n",
       "      <th>12347.0</th>\n",
       "      <td>60</td>\n",
       "      <td>56</td>\n",
       "      <td>11626.07</td>\n",
       "      <td>2</td>\n",
       "      <td>1</td>\n",
       "      <td>1</td>\n",
       "      <td>211</td>\n",
       "    </tr>\n",
       "    <tr>\n",
       "      <th>12348.0</th>\n",
       "      <td>74</td>\n",
       "      <td>19</td>\n",
       "      <td>1410.49</td>\n",
       "      <td>2</td>\n",
       "      <td>3</td>\n",
       "      <td>3</td>\n",
       "      <td>233</td>\n",
       "    </tr>\n",
       "    <tr>\n",
       "      <th>12350.0</th>\n",
       "      <td>18</td>\n",
       "      <td>16</td>\n",
       "      <td>1342.14</td>\n",
       "      <td>1</td>\n",
       "      <td>3</td>\n",
       "      <td>3</td>\n",
       "      <td>133</td>\n",
       "    </tr>\n",
       "    <tr>\n",
       "      <th>12356.0</th>\n",
       "      <td>108</td>\n",
       "      <td>32</td>\n",
       "      <td>1426.09</td>\n",
       "      <td>2</td>\n",
       "      <td>2</td>\n",
       "      <td>3</td>\n",
       "      <td>223</td>\n",
       "    </tr>\n",
       "  </tbody>\n",
       "</table>\n",
       "</div>"
      ],
      "text/plain": [
       "            recency  frequency  monetary r_quartile f_quartile m_quartile  \\\n",
       "CustomerID                                                                  \n",
       "12346.0         108          2     30.99          2          4          4   \n",
       "12347.0          60         56  11626.07          2          1          1   \n",
       "12348.0          74         19   1410.49          2          3          3   \n",
       "12350.0          18         16   1342.14          1          3          3   \n",
       "12356.0         108         32   1426.09          2          2          3   \n",
       "\n",
       "           RFM_Score  \n",
       "CustomerID            \n",
       "12346.0          244  \n",
       "12347.0          211  \n",
       "12348.0          233  \n",
       "12350.0          133  \n",
       "12356.0          223  "
      ]
     },
     "execution_count": 19,
     "metadata": {},
     "output_type": "execute_result"
    }
   ],
   "source": [
    "rfm.head()"
   ]
  },
  {
   "cell_type": "code",
   "execution_count": 15,
   "metadata": {},
   "outputs": [],
   "source": [
    "rfm['RFM_Score'] = rfm.r_quartile.astype(str)+ rfm.f_quartile.astype(str) + rfm.m_quartile.astype(str)      "
   ]
  },
  {
   "cell_type": "markdown",
   "metadata": {},
   "source": [
    "print the highst score customers "
   ]
  },
  {
   "cell_type": "code",
   "execution_count": 16,
   "metadata": {},
   "outputs": [
    {
     "name": "stdout",
     "output_type": "stream",
     "text": [
      "            recency  frequency  monetary r_quartile f_quartile m_quartile  \\\n",
      "CustomerID                                                                  \n",
      "15311.0          13        522  69003.01          1          1          1   \n",
      "14606.0           1        527  48686.04          1          1          1   \n",
      "14911.0          11        472  47412.00          1          1          1   \n",
      "17841.0          18        496  42432.64          1          1          1   \n",
      "17337.0          17        226  32301.49          1          1          1   \n",
      "\n",
      "           RFM_Score  \n",
      "CustomerID            \n",
      "15311.0          111  \n",
      "14606.0          111  \n",
      "14911.0          111  \n",
      "17841.0          111  \n",
      "17337.0          111  \n",
      "Index(['recency', 'frequency', 'monetary', 'r_quartile', 'f_quartile',\n",
      "       'm_quartile', 'RFM_Score'],\n",
      "      dtype='object')\n"
     ]
    }
   ],
   "source": [
    "print(rfm[rfm['RFM_Score']=='111'].sort_values('monetary',ascending=False).head())\n",
    "print(rfm.columns)"
   ]
  }
 ],
 "metadata": {
  "kernelspec": {
   "display_name": "Python 3",
   "language": "python",
   "name": "python3"
  },
  "language_info": {
   "codemirror_mode": {
    "name": "ipython",
    "version": 3
   },
   "file_extension": ".py",
   "mimetype": "text/x-python",
   "name": "python",
   "nbconvert_exporter": "python",
   "pygments_lexer": "ipython3",
   "version": "3.11.9"
  }
 },
 "nbformat": 4,
 "nbformat_minor": 2
}
